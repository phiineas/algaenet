{
 "cells": [
  {
   "cell_type": "code",
   "execution_count": null,
   "id": "9e1211c6",
   "metadata": {},
   "outputs": [],
   "source": [
    "import os\n",
    "import shutil\n",
    "\n",
    "import tensorflow as tf\n",
    "from tensorflow import keras\n",
    "from tensorflow.keras.preprocessing.image import ImageDataGenerator\n",
    "from tensorflow.keras import layers, models\n",
    "from tensorflow.keras.applications import ConvNeXtTiny\n",
    "from tensorflow.keras.optimizers import Adam\n",
    "\n",
    "import matplotlib.pyplot as plt\n",
    "import seaborn as sns\n",
    "import numpy as np\n",
    "from sklearn.utils.class_weight import compute_class_weight\n",
    "import pandas as pd\n",
    "\n",
    "import warnings\n",
    "warnings.filterwarnings(\"ignore\")"
   ]
  },
  {
   "cell_type": "code",
   "execution_count": null,
   "id": "aabd9fc2",
   "metadata": {},
   "outputs": [],
   "source": [
    "base_dir = r\"D:\\desktop\\python\\algaenet\\dataset\\train\"\n",
    "image_dir = os.path.join(base_dir, \"images\")\n",
    "label_dir = os.path.join(base_dir, \"labels\")"
   ]
  },
  {
   "cell_type": "code",
   "execution_count": null,
   "id": "e9f16d6b",
   "metadata": {},
   "outputs": [],
   "source": [
    "class_names = {\n",
    "    0: \"Platymonas\",\n",
    "    1: \"Chlorella\",\n",
    "    2: \"Dunaliella_salina\",\n",
    "    3: \"Effrenium\",\n",
    "    4: \"Porphyridium\",\n",
    "    5: \"Haematococcus\"\n",
    "}"
   ]
  },
  {
   "cell_type": "code",
   "execution_count": null,
   "id": "c83eac7b",
   "metadata": {},
   "outputs": [],
   "source": [
    "for class_id, class_name in class_names.items():\n",
    "    class_subdir = os.path.join(image_dir, class_name)\n",
    "    os.makedirs(class_subdir, exist_ok=True)\n",
    "    print(f\"created or found directory- {class_subdir}\")"
   ]
  },
  {
   "cell_type": "code",
   "execution_count": null,
   "id": "455b2c62",
   "metadata": {},
   "outputs": [],
   "source": [
    "moved_count = 0\n",
    "skipped_count = 0\n",
    "error_count = 0\n",
    "\n",
    "print(f\"\\nprocessing labels in- {label_dir}\")\n",
    "if not os.path.exists(label_dir):\n",
    "    print(f\"error- label directory not found at {label_dir}\")\n",
    "else:\n",
    "    label_files = [f for f in os.listdir(label_dir) if f.endswith(\".txt\")]\n",
    "    print(f\"found {len(label_files)} label files\")\n",
    "\n",
    "    for label_file in label_files:\n",
    "        label_path = os.path.join(label_dir, label_file)\n",
    "        image_name = label_file.replace(\".txt\", \".jpg\") \n",
    "        image_path = os.path.join(image_dir, image_name)\n",
    "\n",
    "        if not os.path.exists(image_path):\n",
    "            # print(f\"skipping- image file not found for label {label_file} at {image_path}\")\n",
    "            skipped_count += 1\n",
    "            continue\n",
    "\n",
    "        try:\n",
    "            with open(label_path, 'r') as f:\n",
    "                lines = f.readlines()\n",
    "                if not lines:\n",
    "                    # print(f\"warning- label file {label_file} is empty\")\n",
    "                    skipped_count += 1\n",
    "                    continue\n",
    "\n",
    "                first_line = lines[0].strip()\n",
    "                if not first_line: \n",
    "                     skipped_count += 1\n",
    "                     continue\n",
    "\n",
    "                parts = first_line.split()\n",
    "                if not parts:\n",
    "                    skipped_count += 1\n",
    "                    continue\n",
    "\n",
    "                class_id = int(parts[0])\n",
    "                class_name = class_names.get(class_id)\n",
    "\n",
    "                if class_name:\n",
    "                    destination_dir = os.path.join(image_dir, class_name)\n",
    "                    destination_path = os.path.join(destination_dir, image_name)\n",
    "\n",
    "                    # check if file already moved \n",
    "                    if not os.path.exists(destination_path):\n",
    "                         shutil.move(image_path, destination_path)\n",
    "                         # print(f\"Moved {image_name} to {destination_dir}\")\n",
    "                         moved_count += 1\n",
    "                    else:\n",
    "                         # print(f\"skipping- {image_name} already in {destination_dir}\")\n",
    "                         # if the original image file still exists somehow, remove it\n",
    "                         if os.path.exists(image_path):\n",
    "                             os.remove(image_path)\n",
    "                         skipped_count +=1\n",
    "\n",
    "                else:\n",
    "                    print(f\"warning- unknown class ID {class_id} in {label_file}\")\n",
    "                    error_count += 1\n",
    "\n",
    "        except Exception as e:\n",
    "            print(f\"error processing file {label_file}- {e}\")\n",
    "            error_count += 1\n",
    "\n",
    "print(f\"\\nfinished processing\")\n",
    "print(f\"moved {moved_count} images\")\n",
    "print(f\"skipped {skipped_count} images (not found, empty label, already moved, or empty lines)\")\n",
    "print(f\"encountered {error_count} errors (unknown class ID or file processing issues)\")"
   ]
  },
  {
   "cell_type": "code",
   "execution_count": null,
   "id": "0574aa4f",
   "metadata": {},
   "outputs": [],
   "source": [
    "print(\"\\nverifying directory structure\")\n",
    "for item in os.listdir(image_dir):\n",
    "    item_path = os.path.join(image_dir, item)\n",
    "    if os.path.isdir(item_path):\n",
    "        print(f\" - directory- {item} contains {len(os.listdir(item_path))} files\")"
   ]
  },
  {
   "cell_type": "code",
   "execution_count": null,
   "id": "0b55873e",
   "metadata": {},
   "outputs": [],
   "source": [
    "train_datagen = ImageDataGenerator(\n",
    "        rescale=1./255)\n",
    "train_generator = train_datagen.flow_from_directory(\n",
    "    directory=r\"D:\\desktop\\python\\algaenet\\dataset\\train\\images\",\n",
    "    target_size=(71,71),\n",
    "    color_mode=\"rgb\",\n",
    "    batch_size=64,\n",
    "    class_mode=\"categorical\",\n",
    "    shuffle=True,\n",
    "    seed=42\n",
    ")"
   ]
  },
  {
   "cell_type": "code",
   "execution_count": null,
   "id": "5fdff77d",
   "metadata": {},
   "outputs": [],
   "source": [
    "class_indices = train_generator.class_indices\n",
    "\n",
    "class_names = {v: k for k, v in class_indices.items()}\n",
    "\n",
    "class_distribution = train_generator.classes\n",
    "\n",
    "class_names_list = [class_names[class_idx] for class_idx in class_distribution]\n",
    "\n",
    "plt.figure(figsize=(10, 5))\n",
    "sns.countplot(x=class_names_list, palette='pastel', order=sorted(class_names_list))\n",
    "plt.title('class distribution in the training dataset')\n",
    "plt.xlabel('class')\n",
    "plt.ylabel('number of samples')\n",
    "plt.xticks(rotation='vertical')\n",
    "plt.show()"
   ]
  },
  {
   "cell_type": "code",
   "execution_count": null,
   "id": "aee3fee8",
   "metadata": {},
   "outputs": [],
   "source": [
    "class_labels = train_generator.classes\n",
    "class_weights = compute_class_weight(class_weight='balanced', classes=np.unique(class_labels), y=class_labels)\n",
    "\n",
    "print(\"class weights\")\n",
    "for class_id, weight in enumerate(class_weights):\n",
    "    print(f\"class- {class_names[class_id]}, weight- {weight}\")"
   ]
  },
  {
   "cell_type": "code",
   "execution_count": null,
   "id": "507faf23",
   "metadata": {},
   "outputs": [],
   "source": [
    "class_weight_dict = {i: class_weights[i] for i in range(len(class_weights))}\n",
    "class_weight_dict"
   ]
  },
  {
   "cell_type": "code",
   "execution_count": null,
   "id": "a053d3b2",
   "metadata": {},
   "outputs": [],
   "source": [
    "class_weights = [0.78828829, 0.72916667, 1.4957265, 1.15511551, 0.93333333, 1.32575758]\n",
    "new_class_names = ['Chlorella', 'Dunaliella_salina', 'Effrenium', 'Haematococcus', 'Platymonas', 'Porphyridium']\n",
    "\n",
    "data = {'Class': new_class_names, 'Weight': class_weights}\n",
    "df = pd.DataFrame(data)\n",
    "\n",
    "plt.figure(figsize=(10, 5))\n",
    "sns.barplot(x='Class', y='Weight', data=df, palette='pastel')\n",
    "plt.title('class weight distribution')\n",
    "plt.xlabel('class')\n",
    "plt.ylabel('class Weight')\n",
    "plt.xticks(rotation='vertical')\n",
    "plt.show()"
   ]
  },
  {
   "cell_type": "code",
   "execution_count": null,
   "id": "d7135896",
   "metadata": {},
   "outputs": [],
   "source": [
    "for _ in range(10):\n",
    "    img, label = next(train_generator)\n",
    "    if label[0][1] == 1:\n",
    "        plt.imshow(img[0])\n",
    "        plt.show()"
   ]
  },
  {
   "cell_type": "code",
   "execution_count": null,
   "id": "ab86b3ae",
   "metadata": {},
   "outputs": [],
   "source": [
    "base_model=ConvNeXtTiny(\n",
    "    include_top=False,\n",
    "    include_preprocessing=False,\n",
    "    weights=\"imagenet\",\n",
    "    input_tensor=None,\n",
    "    input_shape=(71, 71, 3),\n",
    "    pooling=None,\n",
    "    classes=6,\n",
    "    classifier_activation=\"softmax\",\n",
    ")"
   ]
  },
  {
   "cell_type": "code",
   "execution_count": null,
   "id": "bae8089a",
   "metadata": {},
   "outputs": [],
   "source": [
    "for layer in base_model.layers:\n",
    "    layer.trainable = False"
   ]
  },
  {
   "cell_type": "code",
   "execution_count": null,
   "id": "9b2f0c8c",
   "metadata": {},
   "outputs": [],
   "source": [
    "ConvNeXtTiny_learner=models.Sequential([\n",
    "    base_model,\n",
    "    layers.GlobalAveragePooling2D(),\n",
    "    layers.Dense(256, activation='relu'),\n",
    "    layers.Dropout(0.2),\n",
    "    layers.Dense(6, activation='softmax')\n",
    "])"
   ]
  },
  {
   "cell_type": "code",
   "execution_count": null,
   "id": "653a0a9c",
   "metadata": {},
   "outputs": [],
   "source": [
    "ConvNeXtTiny_learner.summary()"
   ]
  },
  {
   "cell_type": "code",
   "execution_count": null,
   "id": "f113ce22",
   "metadata": {},
   "outputs": [],
   "source": [
    "METRICS = [\n",
    "      keras.metrics.Precision(name='precision'),\n",
    "      keras.metrics.Recall(name='recall'),\n",
    "      keras.metrics.AUC(name='auc'),\n",
    "      keras.metrics.AUC(name='prc', curve='PR'),\n",
    "]"
   ]
  },
  {
   "cell_type": "code",
   "execution_count": null,
   "id": "b4c60f99",
   "metadata": {},
   "outputs": [],
   "source": [
    "ConvNeXtTiny_learner.compile(\n",
    "    optimizer=Adam(learning_rate=0.0001),\n",
    "    loss='categorical_crossentropy',\n",
    "    metrics=['accuracy'] + METRICS,\n",
    ")"
   ]
  },
  {
   "cell_type": "code",
   "execution_count": null,
   "id": "f9fa0cef",
   "metadata": {},
   "outputs": [],
   "source": [
    "ConvNeXtTiny_history=ConvNeXtTiny_learner.fit(train_generator,epochs=100,class_weight=class_weight_dict)"
   ]
  },
  {
   "cell_type": "code",
   "execution_count": null,
   "id": "de9df6ee",
   "metadata": {},
   "outputs": [],
   "source": []
  }
 ],
 "metadata": {
  "kernelspec": {
   "display_name": "Python 3",
   "language": "python",
   "name": "python3"
  },
  "language_info": {
   "codemirror_mode": {
    "name": "ipython",
    "version": 3
   },
   "file_extension": ".py",
   "mimetype": "text/x-python",
   "name": "python",
   "nbconvert_exporter": "python",
   "pygments_lexer": "ipython3",
   "version": "3.12.0"
  }
 },
 "nbformat": 4,
 "nbformat_minor": 5
}
