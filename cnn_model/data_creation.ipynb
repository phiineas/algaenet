{
 "cells": [
  {
   "cell_type": "code",
   "execution_count": 1,
   "id": "9e1211c6",
   "metadata": {},
   "outputs": [],
   "source": [
    "import os\n",
    "import shutil\n",
    "\n",
    "import warnings\n",
    "warnings.filterwarnings(\"ignore\")"
   ]
  },
  {
   "cell_type": "code",
   "execution_count": 2,
   "id": "aabd9fc2",
   "metadata": {},
   "outputs": [],
   "source": [
    "base_dir = r\"D:\\desktop\\python\\algaenet\\dataset\\train\"\n",
    "image_dir = os.path.join(base_dir, \"images\")\n",
    "label_dir = os.path.join(base_dir, \"labels\")"
   ]
  },
  {
   "cell_type": "code",
   "execution_count": 3,
   "id": "e9f16d6b",
   "metadata": {},
   "outputs": [],
   "source": [
    "class_names = {\n",
    "    0: \"Platymonas\",\n",
    "    1: \"Chlorella\",\n",
    "    2: \"Dunaliella_salina\",\n",
    "    3: \"Effrenium\",\n",
    "    4: \"Porphyridium\",\n",
    "    5: \"Haematococcus\"\n",
    "}"
   ]
  },
  {
   "cell_type": "code",
   "execution_count": 4,
   "id": "c83eac7b",
   "metadata": {},
   "outputs": [
    {
     "name": "stdout",
     "output_type": "stream",
     "text": [
      "created or found directory- D:\\desktop\\python\\algaenet\\dataset\\train\\images\\Platymonas\n",
      "created or found directory- D:\\desktop\\python\\algaenet\\dataset\\train\\images\\Chlorella\n",
      "created or found directory- D:\\desktop\\python\\algaenet\\dataset\\train\\images\\Dunaliella_salina\n",
      "created or found directory- D:\\desktop\\python\\algaenet\\dataset\\train\\images\\Effrenium\n",
      "created or found directory- D:\\desktop\\python\\algaenet\\dataset\\train\\images\\Porphyridium\n",
      "created or found directory- D:\\desktop\\python\\algaenet\\dataset\\train\\images\\Haematococcus\n"
     ]
    }
   ],
   "source": [
    "for class_id, class_name in class_names.items():\n",
    "    class_subdir = os.path.join(image_dir, class_name)\n",
    "    os.makedirs(class_subdir, exist_ok=True)\n",
    "    print(f\"created or found directory- {class_subdir}\")"
   ]
  },
  {
   "cell_type": "code",
   "execution_count": 5,
   "id": "455b2c62",
   "metadata": {},
   "outputs": [
    {
     "name": "stdout",
     "output_type": "stream",
     "text": [
      "\n",
      "processing labels in- D:\\desktop\\python\\algaenet\\dataset\\train\\labels\n",
      "found 700 label files\n",
      "\n",
      "finished processing\n",
      "moved 0 images\n",
      "skipped 700 images (not found, empty label, already moved, or empty lines)\n",
      "encountered 0 errors (unknown class ID or file processing issues)\n"
     ]
    }
   ],
   "source": [
    "moved_count = 0\n",
    "skipped_count = 0\n",
    "error_count = 0\n",
    "\n",
    "print(f\"\\nprocessing labels in- {label_dir}\")\n",
    "if not os.path.exists(label_dir):\n",
    "    print(f\"error- label directory not found at {label_dir}\")\n",
    "else:\n",
    "    label_files = [f for f in os.listdir(label_dir) if f.endswith(\".txt\")]\n",
    "    print(f\"found {len(label_files)} label files\")\n",
    "\n",
    "    for label_file in label_files:\n",
    "        label_path = os.path.join(label_dir, label_file)\n",
    "        image_name = label_file.replace(\".txt\", \".jpg\") \n",
    "        image_path = os.path.join(image_dir, image_name)\n",
    "\n",
    "        if not os.path.exists(image_path):\n",
    "            # print(f\"skipping- image file not found for label {label_file} at {image_path}\")\n",
    "            skipped_count += 1\n",
    "            continue\n",
    "\n",
    "        try:\n",
    "            with open(label_path, 'r') as f:\n",
    "                lines = f.readlines()\n",
    "                if not lines:\n",
    "                    # print(f\"warning- label file {label_file} is empty\")\n",
    "                    skipped_count += 1\n",
    "                    continue\n",
    "\n",
    "                first_line = lines[0].strip()\n",
    "                if not first_line: \n",
    "                     skipped_count += 1\n",
    "                     continue\n",
    "\n",
    "                parts = first_line.split()\n",
    "                if not parts:\n",
    "                    skipped_count += 1\n",
    "                    continue\n",
    "\n",
    "                class_id = int(parts[0])\n",
    "                class_name = class_names.get(class_id)\n",
    "\n",
    "                if class_name:\n",
    "                    destination_dir = os.path.join(image_dir, class_name)\n",
    "                    destination_path = os.path.join(destination_dir, image_name)\n",
    "\n",
    "                    # check if file already moved \n",
    "                    if not os.path.exists(destination_path):\n",
    "                         shutil.move(image_path, destination_path)\n",
    "                         # print(f\"Moved {image_name} to {destination_dir}\")\n",
    "                         moved_count += 1\n",
    "                    else:\n",
    "                         # print(f\"skipping- {image_name} already in {destination_dir}\")\n",
    "                         # if the original image file still exists somehow, remove it\n",
    "                         if os.path.exists(image_path):\n",
    "                             os.remove(image_path)\n",
    "                         skipped_count +=1\n",
    "\n",
    "                else:\n",
    "                    print(f\"warning- unknown class ID {class_id} in {label_file}\")\n",
    "                    error_count += 1\n",
    "\n",
    "        except Exception as e:\n",
    "            print(f\"error processing file {label_file}- {e}\")\n",
    "            error_count += 1\n",
    "\n",
    "print(f\"\\nfinished processing\")\n",
    "print(f\"moved {moved_count} images\")\n",
    "print(f\"skipped {skipped_count} images (not found, empty label, already moved, or empty lines)\")\n",
    "print(f\"encountered {error_count} errors (unknown class ID or file processing issues)\")"
   ]
  },
  {
   "cell_type": "code",
   "execution_count": 6,
   "id": "0574aa4f",
   "metadata": {},
   "outputs": [
    {
     "name": "stdout",
     "output_type": "stream",
     "text": [
      "\n",
      "verifying directory structure\n",
      " - directory- Chlorella contains 148 files\n",
      " - directory- Dunaliella_salina contains 160 files\n",
      " - directory- Effrenium contains 78 files\n",
      " - directory- Haematococcus contains 101 files\n",
      " - directory- Platymonas contains 125 files\n",
      " - directory- Porphyridium contains 88 files\n"
     ]
    }
   ],
   "source": [
    "print(\"\\nverifying directory structure\")\n",
    "for item in os.listdir(image_dir):\n",
    "    item_path = os.path.join(image_dir, item)\n",
    "    if os.path.isdir(item_path):\n",
    "        print(f\" - directory- {item} contains {len(os.listdir(item_path))} files\")"
   ]
  }
 ],
 "metadata": {
  "kernelspec": {
   "display_name": "Python 3",
   "language": "python",
   "name": "python3"
  },
  "language_info": {
   "codemirror_mode": {
    "name": "ipython",
    "version": 3
   },
   "file_extension": ".py",
   "mimetype": "text/x-python",
   "name": "python",
   "nbconvert_exporter": "python",
   "pygments_lexer": "ipython3",
   "version": "3.12.0"
  }
 },
 "nbformat": 4,
 "nbformat_minor": 5
}
