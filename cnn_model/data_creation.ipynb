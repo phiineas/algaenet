{
 "cells": [
  {
   "cell_type": "code",
   "execution_count": null,
   "id": "9e1211c6",
   "metadata": {},
   "outputs": [],
   "source": [
    "import os\n",
    "import shutil\n",
    "import random\n",
    "\n",
    "import warnings\n",
    "warnings.filterwarnings(\"ignore\")"
   ]
  },
  {
   "cell_type": "code",
   "execution_count": 10,
   "id": "aabd9fc2",
   "metadata": {},
   "outputs": [],
   "source": [
    "base_dir = r\"D:\\desktop\\python\\algaenet\\dataset\\train\"\n",
    "image_dir = os.path.join(base_dir, \"images\")\n",
    "label_dir = os.path.join(base_dir, \"labels\")"
   ]
  },
  {
   "cell_type": "code",
   "execution_count": 11,
   "id": "e9f16d6b",
   "metadata": {},
   "outputs": [],
   "source": [
    "class_names = {\n",
    "    0: \"Platymonas\",\n",
    "    1: \"Chlorella\",\n",
    "    2: \"Dunaliella_salina\",\n",
    "    3: \"Effrenium\",\n",
    "    4: \"Porphyridium\",\n",
    "    5: \"Haematococcus\"\n",
    "}"
   ]
  },
  {
   "cell_type": "code",
   "execution_count": 12,
   "id": "c83eac7b",
   "metadata": {},
   "outputs": [
    {
     "name": "stdout",
     "output_type": "stream",
     "text": [
      "created or found directory- D:\\desktop\\python\\algaenet\\dataset\\train\\images\\Platymonas\n",
      "created or found directory- D:\\desktop\\python\\algaenet\\dataset\\train\\images\\Chlorella\n",
      "created or found directory- D:\\desktop\\python\\algaenet\\dataset\\train\\images\\Dunaliella_salina\n",
      "created or found directory- D:\\desktop\\python\\algaenet\\dataset\\train\\images\\Effrenium\n",
      "created or found directory- D:\\desktop\\python\\algaenet\\dataset\\train\\images\\Porphyridium\n",
      "created or found directory- D:\\desktop\\python\\algaenet\\dataset\\train\\images\\Haematococcus\n"
     ]
    }
   ],
   "source": [
    "for class_id, class_name in class_names.items():\n",
    "    class_subdir = os.path.join(image_dir, class_name)\n",
    "    os.makedirs(class_subdir, exist_ok=True)\n",
    "    print(f\"created or found directory- {class_subdir}\")"
   ]
  },
  {
   "cell_type": "code",
   "execution_count": 13,
   "id": "455b2c62",
   "metadata": {},
   "outputs": [
    {
     "name": "stdout",
     "output_type": "stream",
     "text": [
      "\n",
      "processing labels in- D:\\desktop\\python\\algaenet\\dataset\\train\\labels\n",
      "found 700 label files\n",
      "\n",
      "finished processing\n",
      "moved 0 images\n",
      "skipped 700 images (not found, empty label, already moved, or empty lines)\n",
      "encountered 0 errors (unknown class ID or file processing issues)\n"
     ]
    }
   ],
   "source": [
    "moved_count = 0\n",
    "skipped_count = 0\n",
    "error_count = 0\n",
    "\n",
    "print(f\"\\nprocessing labels in- {label_dir}\")\n",
    "if not os.path.exists(label_dir):\n",
    "    print(f\"error- label directory not found at {label_dir}\")\n",
    "else:\n",
    "    label_files = [f for f in os.listdir(label_dir) if f.endswith(\".txt\")]\n",
    "    print(f\"found {len(label_files)} label files\")\n",
    "\n",
    "    for label_file in label_files:\n",
    "        label_path = os.path.join(label_dir, label_file)\n",
    "        image_name = label_file.replace(\".txt\", \".jpg\") \n",
    "        image_path = os.path.join(image_dir, image_name)\n",
    "\n",
    "        if not os.path.exists(image_path):\n",
    "            # print(f\"skipping- image file not found for label {label_file} at {image_path}\")\n",
    "            skipped_count += 1\n",
    "            continue\n",
    "\n",
    "        try:\n",
    "            with open(label_path, 'r') as f:\n",
    "                lines = f.readlines()\n",
    "                if not lines:\n",
    "                    # print(f\"warning- label file {label_file} is empty\")\n",
    "                    skipped_count += 1\n",
    "                    continue\n",
    "\n",
    "                first_line = lines[0].strip()\n",
    "                if not first_line: \n",
    "                     skipped_count += 1\n",
    "                     continue\n",
    "\n",
    "                parts = first_line.split()\n",
    "                if not parts:\n",
    "                    skipped_count += 1\n",
    "                    continue\n",
    "\n",
    "                class_id = int(parts[0])\n",
    "                class_name = class_names.get(class_id)\n",
    "\n",
    "                if class_name:\n",
    "                    destination_dir = os.path.join(image_dir, class_name)\n",
    "                    destination_path = os.path.join(destination_dir, image_name)\n",
    "\n",
    "                    # check if file already moved \n",
    "                    if not os.path.exists(destination_path):\n",
    "                         shutil.move(image_path, destination_path)\n",
    "                         # print(f\"Moved {image_name} to {destination_dir}\")\n",
    "                         moved_count += 1\n",
    "                    else:\n",
    "                         # print(f\"skipping- {image_name} already in {destination_dir}\")\n",
    "                         # if the original image file still exists somehow, remove it\n",
    "                         if os.path.exists(image_path):\n",
    "                             os.remove(image_path)\n",
    "                         skipped_count +=1\n",
    "\n",
    "                else:\n",
    "                    print(f\"warning- unknown class ID {class_id} in {label_file}\")\n",
    "                    error_count += 1\n",
    "\n",
    "        except Exception as e:\n",
    "            print(f\"error processing file {label_file}- {e}\")\n",
    "            error_count += 1\n",
    "\n",
    "print(f\"\\nfinished processing\")\n",
    "print(f\"moved {moved_count} images\")\n",
    "print(f\"skipped {skipped_count} images (not found, empty label, already moved, or empty lines)\")\n",
    "print(f\"encountered {error_count} errors (unknown class ID or file processing issues)\")"
   ]
  },
  {
   "cell_type": "code",
   "execution_count": 14,
   "id": "0574aa4f",
   "metadata": {},
   "outputs": [
    {
     "name": "stdout",
     "output_type": "stream",
     "text": [
      "\n",
      "verifying directory structure\n",
      " - directory- Chlorella contains 148 files\n",
      " - directory- Dunaliella_salina contains 160 files\n",
      " - directory- Effrenium contains 78 files\n",
      " - directory- Haematococcus contains 101 files\n",
      " - directory- Platymonas contains 125 files\n",
      " - directory- Porphyridium contains 88 files\n"
     ]
    }
   ],
   "source": [
    "print(\"\\nverifying directory structure\")\n",
    "for item in os.listdir(image_dir):\n",
    "    item_path = os.path.join(image_dir, item)\n",
    "    if os.path.isdir(item_path):\n",
    "        print(f\" - directory- {item} contains {len(os.listdir(item_path))} files\")"
   ]
  },
  {
   "cell_type": "code",
   "execution_count": 15,
   "id": "12da4854",
   "metadata": {},
   "outputs": [
    {
     "name": "stdout",
     "output_type": "stream",
     "text": [
      "base validation directory created/ensured at: D:\\desktop\\python\\algaenet\\dataset\\val\\images\n",
      "found classes: ['Chlorella', 'Dunaliella_salina', 'Effrenium', 'Haematococcus', 'Platymonas', 'Porphyridium']\n",
      "created/ensured validation subdirectory- D:\\desktop\\python\\algaenet\\dataset\\val\\images\\Chlorella\n",
      "for class 'Chlorella':\n",
      "total images- 148\n",
      "selected for validation- 29\n",
      "copied 29 images to D:\\desktop\\python\\algaenet\\dataset\\val\\images\\Chlorella\n",
      "created/ensured validation subdirectory- D:\\desktop\\python\\algaenet\\dataset\\val\\images\\Dunaliella_salina\n",
      "for class 'Dunaliella_salina':\n",
      "total images- 160\n",
      "selected for validation- 32\n"
     ]
    },
    {
     "name": "stdout",
     "output_type": "stream",
     "text": [
      "copied 32 images to D:\\desktop\\python\\algaenet\\dataset\\val\\images\\Dunaliella_salina\n",
      "created/ensured validation subdirectory- D:\\desktop\\python\\algaenet\\dataset\\val\\images\\Effrenium\n",
      "for class 'Effrenium':\n",
      "total images- 78\n",
      "selected for validation- 15\n",
      "copied 15 images to D:\\desktop\\python\\algaenet\\dataset\\val\\images\\Effrenium\n",
      "created/ensured validation subdirectory- D:\\desktop\\python\\algaenet\\dataset\\val\\images\\Haematococcus\n",
      "for class 'Haematococcus':\n",
      "total images- 101\n",
      "selected for validation- 20\n",
      "copied 20 images to D:\\desktop\\python\\algaenet\\dataset\\val\\images\\Haematococcus\n",
      "created/ensured validation subdirectory- D:\\desktop\\python\\algaenet\\dataset\\val\\images\\Platymonas\n",
      "for class 'Platymonas':\n",
      "total images- 125\n",
      "selected for validation- 25\n",
      "copied 25 images to D:\\desktop\\python\\algaenet\\dataset\\val\\images\\Platymonas\n",
      "created/ensured validation subdirectory- D:\\desktop\\python\\algaenet\\dataset\\val\\images\\Porphyridium\n",
      "for class 'Porphyridium':\n",
      "total images- 88\n",
      "selected for validation- 17\n",
      "copied 17 images to D:\\desktop\\python\\algaenet\\dataset\\val\\images\\Porphyridium\n",
      "\n",
      "validation set creation complete.\n",
      "verifying validation directory structure-\n",
      " - directory- Chlorella contains 29 files\n",
      " - directory- Dunaliella_salina contains 32 files\n",
      " - directory- Effrenium contains 15 files\n",
      " - directory- Haematococcus contains 20 files\n",
      " - directory- Platymonas contains 25 files\n",
      " - directory- Porphyridium contains 17 files\n"
     ]
    }
   ],
   "source": [
    "base_train_dir = r\"D:\\desktop\\python\\algaenet\\dataset\\train\\images\"\n",
    "base_val_dir = r\"D:\\desktop\\python\\algaenet\\dataset\\val\\images\" \n",
    "\n",
    "validation_split_percentage = 0.20 \n",
    "\n",
    "os.makedirs(base_val_dir, exist_ok=True)\n",
    "print(f\"base validation directory created/ensured at: {base_val_dir}\")\n",
    "\n",
    "class_names = [d for d in os.listdir(base_train_dir) if os.path.isdir(os.path.join(base_train_dir, d))]\n",
    "\n",
    "if not class_names:\n",
    "    print(f\"no class subdirectories found in {base_train_dir}. please ensure your data_creation.ipynb script ran successfully.\")\n",
    "else:\n",
    "    print(f\"found classes: {class_names}\")\n",
    "\n",
    "    for class_name in class_names:\n",
    "        source_class_dir = os.path.join(base_train_dir, class_name)\n",
    "        dest_class_dir = os.path.join(base_val_dir, class_name)\n",
    "\n",
    "        os.makedirs(dest_class_dir, exist_ok=True)\n",
    "        print(f\"created/ensured validation subdirectory- {dest_class_dir}\")\n",
    "\n",
    "        images = [f for f in os.listdir(source_class_dir) if os.path.isfile(os.path.join(source_class_dir, f))]\n",
    "        \n",
    "        if not images:\n",
    "            print(f\"no images found in {source_class_dir} for class {class_name}.\")\n",
    "            continue\n",
    "\n",
    "        random.shuffle(images)\n",
    "\n",
    "        num_val_images = int(len(images) * validation_split_percentage)\n",
    "        \n",
    "        if num_val_images == 0 and len(images) > 0:\n",
    "            num_val_images = 1\n",
    "        \n",
    "        val_images_to_copy = images[:num_val_images]\n",
    "\n",
    "        print(f\"for class '{class_name}':\")\n",
    "        print(f\"total images- {len(images)}\")\n",
    "        print(f\"selected for validation- {len(val_images_to_copy)}\")\n",
    "\n",
    "        copied_count = 0\n",
    "        for image_name in val_images_to_copy:\n",
    "            source_image_path = os.path.join(source_class_dir, image_name)\n",
    "            dest_image_path = os.path.join(dest_class_dir, image_name)\n",
    "\n",
    "            shutil.copy2(source_image_path, dest_image_path) \n",
    "            copied_count += 1\n",
    "        \n",
    "        print(f\"copied {copied_count} images to {dest_class_dir}\")\n",
    "\n",
    "    print(\"\\nvalidation set creation complete.\")\n",
    "    print(\"verifying validation directory structure-\")\n",
    "    for item in os.listdir(base_val_dir):\n",
    "        item_path = os.path.join(base_val_dir, item)\n",
    "        if os.path.isdir(item_path):\n",
    "            print(f\" - directory- {item} contains {len(os.listdir(item_path))} files\")\n"
   ]
  }
 ],
 "metadata": {
  "kernelspec": {
   "display_name": "Python 3",
   "language": "python",
   "name": "python3"
  },
  "language_info": {
   "codemirror_mode": {
    "name": "ipython",
    "version": 3
   },
   "file_extension": ".py",
   "mimetype": "text/x-python",
   "name": "python",
   "nbconvert_exporter": "python",
   "pygments_lexer": "ipython3",
   "version": "3.12.0"
  }
 },
 "nbformat": 4,
 "nbformat_minor": 5
}
